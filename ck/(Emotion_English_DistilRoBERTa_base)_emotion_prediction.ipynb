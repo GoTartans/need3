{
  "nbformat": 4,
  "nbformat_minor": 0,
  "metadata": {
    "colab": {
      "provenance": []
    },
    "kernelspec": {
      "name": "python3",
      "display_name": "Python 3"
    },
    "language_info": {
      "name": "python"
    },
    "accelerator": "GPU"
  },
  "cells": [
    {
      "cell_type": "code",
      "source": [
        "from google.colab import drive\n",
        "drive.mount('/content/drive')"
      ],
      "metadata": {
        "colab": {
          "base_uri": "https://localhost:8080/"
        },
        "id": "LTAl6av7NduA",
        "outputId": "7435c566-27e2-4e02-c6f1-e395cfc2ae50"
      },
      "execution_count": null,
      "outputs": [
        {
          "output_type": "stream",
          "name": "stdout",
          "text": [
            "Mounted at /content/drive\n"
          ]
        }
      ]
    },
    {
      "cell_type": "markdown",
      "source": [
        "# Dataset"
      ],
      "metadata": {
        "id": "De00bfPmsjhl"
      }
    },
    {
      "cell_type": "markdown",
      "source": [
        "### MELD Data"
      ],
      "metadata": {
        "id": "4zRlii80Eqe9"
      }
    },
    {
      "cell_type": "code",
      "source": [
        "# download MELD\n",
        "%cd '/content/drive/MyDrive/NEED'\n",
        "!git clone https://github.com/declare-lab/MELD.git"
      ],
      "metadata": {
        "id": "1Yqj8ZjfDY3m"
      },
      "execution_count": null,
      "outputs": []
    },
    {
      "cell_type": "code",
      "source": [
        "import pandas as pd\n",
        "# specify test filename\n",
        "file_name = \"/content/drive/MyDrive/NEED/MELD/data/MELD/test_sent_emo.csv\" \n",
        "utter_column = \"Utterance\" \n",
        "emo_column = \"Emotion\"\n",
        "\n",
        "# read in csv\n",
        "df = pd.read_csv(file_name)\n",
        "MELD_utter = df[utter_column].astype('str').tolist()\n",
        "MELD_emo = df[emo_column].astype('str').tolist()"
      ],
      "metadata": {
        "id": "ONh1GQiYEvAC"
      },
      "execution_count": null,
      "outputs": []
    },
    {
      "cell_type": "code",
      "source": [
        "df.head()"
      ],
      "metadata": {
        "colab": {
          "base_uri": "https://localhost:8080/",
          "height": 206
        },
        "id": "2np-Mj9X7-4L",
        "outputId": "5aabfccf-d12e-4187-df0c-a5b2081a9bb7"
      },
      "execution_count": null,
      "outputs": [
        {
          "output_type": "execute_result",
          "data": {
            "text/plain": [
              "   Sr No.                                          Utterance Speaker  \\\n",
              "0       1  Why do all you’re coffee mugs have numbers on ...    Mark   \n",
              "1       2  Oh. That’s so Monica can keep track. That way ...  Rachel   \n",
              "2       3                                       Y'know what?  Rachel   \n",
              "3      19                     Come on, Lydia, you can do it.    Joey   \n",
              "4      20                                              Push!    Joey   \n",
              "\n",
              "    Emotion Sentiment  Dialogue_ID  Utterance_ID  Season  Episode  \\\n",
              "0  surprise  positive            0             0       3       19   \n",
              "1     anger  negative            0             1       3       19   \n",
              "2   neutral   neutral            0             2       3       19   \n",
              "3   neutral   neutral            1             0       1       23   \n",
              "4       joy  positive            1             1       1       23   \n",
              "\n",
              "      StartTime       EndTime  \n",
              "0  00:14:38,127  00:14:40,378  \n",
              "1  00:14:40,629  00:14:47,385  \n",
              "2  00:14:56,353  00:14:57,520  \n",
              "3   0:10:44,769   0:10:46,146  \n",
              "4   0:10:46,146   0:10:46,833  "
            ],
            "text/html": [
              "\n",
              "  <div id=\"df-4748fdaf-56b9-4008-bd79-fe0f16cefee8\">\n",
              "    <div class=\"colab-df-container\">\n",
              "      <div>\n",
              "<style scoped>\n",
              "    .dataframe tbody tr th:only-of-type {\n",
              "        vertical-align: middle;\n",
              "    }\n",
              "\n",
              "    .dataframe tbody tr th {\n",
              "        vertical-align: top;\n",
              "    }\n",
              "\n",
              "    .dataframe thead th {\n",
              "        text-align: right;\n",
              "    }\n",
              "</style>\n",
              "<table border=\"1\" class=\"dataframe\">\n",
              "  <thead>\n",
              "    <tr style=\"text-align: right;\">\n",
              "      <th></th>\n",
              "      <th>Sr No.</th>\n",
              "      <th>Utterance</th>\n",
              "      <th>Speaker</th>\n",
              "      <th>Emotion</th>\n",
              "      <th>Sentiment</th>\n",
              "      <th>Dialogue_ID</th>\n",
              "      <th>Utterance_ID</th>\n",
              "      <th>Season</th>\n",
              "      <th>Episode</th>\n",
              "      <th>StartTime</th>\n",
              "      <th>EndTime</th>\n",
              "    </tr>\n",
              "  </thead>\n",
              "  <tbody>\n",
              "    <tr>\n",
              "      <th>0</th>\n",
              "      <td>1</td>\n",
              "      <td>Why do all you’re coffee mugs have numbers on ...</td>\n",
              "      <td>Mark</td>\n",
              "      <td>surprise</td>\n",
              "      <td>positive</td>\n",
              "      <td>0</td>\n",
              "      <td>0</td>\n",
              "      <td>3</td>\n",
              "      <td>19</td>\n",
              "      <td>00:14:38,127</td>\n",
              "      <td>00:14:40,378</td>\n",
              "    </tr>\n",
              "    <tr>\n",
              "      <th>1</th>\n",
              "      <td>2</td>\n",
              "      <td>Oh. That’s so Monica can keep track. That way ...</td>\n",
              "      <td>Rachel</td>\n",
              "      <td>anger</td>\n",
              "      <td>negative</td>\n",
              "      <td>0</td>\n",
              "      <td>1</td>\n",
              "      <td>3</td>\n",
              "      <td>19</td>\n",
              "      <td>00:14:40,629</td>\n",
              "      <td>00:14:47,385</td>\n",
              "    </tr>\n",
              "    <tr>\n",
              "      <th>2</th>\n",
              "      <td>3</td>\n",
              "      <td>Y'know what?</td>\n",
              "      <td>Rachel</td>\n",
              "      <td>neutral</td>\n",
              "      <td>neutral</td>\n",
              "      <td>0</td>\n",
              "      <td>2</td>\n",
              "      <td>3</td>\n",
              "      <td>19</td>\n",
              "      <td>00:14:56,353</td>\n",
              "      <td>00:14:57,520</td>\n",
              "    </tr>\n",
              "    <tr>\n",
              "      <th>3</th>\n",
              "      <td>19</td>\n",
              "      <td>Come on, Lydia, you can do it.</td>\n",
              "      <td>Joey</td>\n",
              "      <td>neutral</td>\n",
              "      <td>neutral</td>\n",
              "      <td>1</td>\n",
              "      <td>0</td>\n",
              "      <td>1</td>\n",
              "      <td>23</td>\n",
              "      <td>0:10:44,769</td>\n",
              "      <td>0:10:46,146</td>\n",
              "    </tr>\n",
              "    <tr>\n",
              "      <th>4</th>\n",
              "      <td>20</td>\n",
              "      <td>Push!</td>\n",
              "      <td>Joey</td>\n",
              "      <td>joy</td>\n",
              "      <td>positive</td>\n",
              "      <td>1</td>\n",
              "      <td>1</td>\n",
              "      <td>1</td>\n",
              "      <td>23</td>\n",
              "      <td>0:10:46,146</td>\n",
              "      <td>0:10:46,833</td>\n",
              "    </tr>\n",
              "  </tbody>\n",
              "</table>\n",
              "</div>\n",
              "      <button class=\"colab-df-convert\" onclick=\"convertToInteractive('df-4748fdaf-56b9-4008-bd79-fe0f16cefee8')\"\n",
              "              title=\"Convert this dataframe to an interactive table.\"\n",
              "              style=\"display:none;\">\n",
              "        \n",
              "  <svg xmlns=\"http://www.w3.org/2000/svg\" height=\"24px\"viewBox=\"0 0 24 24\"\n",
              "       width=\"24px\">\n",
              "    <path d=\"M0 0h24v24H0V0z\" fill=\"none\"/>\n",
              "    <path d=\"M18.56 5.44l.94 2.06.94-2.06 2.06-.94-2.06-.94-.94-2.06-.94 2.06-2.06.94zm-11 1L8.5 8.5l.94-2.06 2.06-.94-2.06-.94L8.5 2.5l-.94 2.06-2.06.94zm10 10l.94 2.06.94-2.06 2.06-.94-2.06-.94-.94-2.06-.94 2.06-2.06.94z\"/><path d=\"M17.41 7.96l-1.37-1.37c-.4-.4-.92-.59-1.43-.59-.52 0-1.04.2-1.43.59L10.3 9.45l-7.72 7.72c-.78.78-.78 2.05 0 2.83L4 21.41c.39.39.9.59 1.41.59.51 0 1.02-.2 1.41-.59l7.78-7.78 2.81-2.81c.8-.78.8-2.07 0-2.86zM5.41 20L4 18.59l7.72-7.72 1.47 1.35L5.41 20z\"/>\n",
              "  </svg>\n",
              "      </button>\n",
              "      \n",
              "  <style>\n",
              "    .colab-df-container {\n",
              "      display:flex;\n",
              "      flex-wrap:wrap;\n",
              "      gap: 12px;\n",
              "    }\n",
              "\n",
              "    .colab-df-convert {\n",
              "      background-color: #E8F0FE;\n",
              "      border: none;\n",
              "      border-radius: 50%;\n",
              "      cursor: pointer;\n",
              "      display: none;\n",
              "      fill: #1967D2;\n",
              "      height: 32px;\n",
              "      padding: 0 0 0 0;\n",
              "      width: 32px;\n",
              "    }\n",
              "\n",
              "    .colab-df-convert:hover {\n",
              "      background-color: #E2EBFA;\n",
              "      box-shadow: 0px 1px 2px rgba(60, 64, 67, 0.3), 0px 1px 3px 1px rgba(60, 64, 67, 0.15);\n",
              "      fill: #174EA6;\n",
              "    }\n",
              "\n",
              "    [theme=dark] .colab-df-convert {\n",
              "      background-color: #3B4455;\n",
              "      fill: #D2E3FC;\n",
              "    }\n",
              "\n",
              "    [theme=dark] .colab-df-convert:hover {\n",
              "      background-color: #434B5C;\n",
              "      box-shadow: 0px 1px 3px 1px rgba(0, 0, 0, 0.15);\n",
              "      filter: drop-shadow(0px 1px 2px rgba(0, 0, 0, 0.3));\n",
              "      fill: #FFFFFF;\n",
              "    }\n",
              "  </style>\n",
              "\n",
              "      <script>\n",
              "        const buttonEl =\n",
              "          document.querySelector('#df-4748fdaf-56b9-4008-bd79-fe0f16cefee8 button.colab-df-convert');\n",
              "        buttonEl.style.display =\n",
              "          google.colab.kernel.accessAllowed ? 'block' : 'none';\n",
              "\n",
              "        async function convertToInteractive(key) {\n",
              "          const element = document.querySelector('#df-4748fdaf-56b9-4008-bd79-fe0f16cefee8');\n",
              "          const dataTable =\n",
              "            await google.colab.kernel.invokeFunction('convertToInteractive',\n",
              "                                                     [key], {});\n",
              "          if (!dataTable) return;\n",
              "\n",
              "          const docLinkHtml = 'Like what you see? Visit the ' +\n",
              "            '<a target=\"_blank\" href=https://colab.research.google.com/notebooks/data_table.ipynb>data table notebook</a>'\n",
              "            + ' to learn more about interactive tables.';\n",
              "          element.innerHTML = '';\n",
              "          dataTable['output_type'] = 'display_data';\n",
              "          await google.colab.output.renderOutput(dataTable, element);\n",
              "          const docLink = document.createElement('div');\n",
              "          docLink.innerHTML = docLinkHtml;\n",
              "          element.appendChild(docLink);\n",
              "        }\n",
              "      </script>\n",
              "    </div>\n",
              "  </div>\n",
              "  "
            ]
          },
          "metadata": {},
          "execution_count": 3
        }
      ]
    },
    {
      "cell_type": "code",
      "source": [
        "assert len(MELD_utter) == len(MELD_emo)\n",
        "print('Number of Test set:', len(MELD_utter))\n",
        "print('Emotion Classes:', set(df[emo_column].tolist()))"
      ],
      "metadata": {
        "colab": {
          "base_uri": "https://localhost:8080/"
        },
        "id": "9ynNlY3RIhsa",
        "outputId": "0d976d79-9247-4e30-ba6f-d15422af1a1c"
      },
      "execution_count": null,
      "outputs": [
        {
          "output_type": "stream",
          "name": "stdout",
          "text": [
            "Number of Test set: 2610\n",
            "Emotion Classes: {'neutral', 'sadness', 'fear', 'surprise', 'disgust', 'anger', 'joy'}\n"
          ]
        }
      ]
    },
    {
      "cell_type": "markdown",
      "source": [
        "### DailyDialog\n",
        "\n",
        "![image.png](data:image/png;base64,iVBORw0KGgoAAAANSUhEUgAAA3EAAABMCAYAAADDeD6iAAAAAXNSR0IArs4c6QAAAARnQU1BAACxjwv8YQUAAAAJcEhZcwAADsMAAA7DAcdvqGQAADsrSURBVHhe7Z0HmBRFE4aLDIrknHMOPwiSEZAgWQERJYkERYKCCEhGOCRIziAgSUBAsmRBQIIEyUmS5JyRJPj3Vzd9zO3N7s7s7R3cUS/PPMvNzs70VFd3V3VXd0f5T0GCIAiCIAiCIAhChCCq8SkIgiAIgiAIgiBEAMSJEwRBEARBEARBiECIEycIgiAIgiAIghCBECdOEARBEARBEAQhAiFOnCAIgiAIgiAIQgRCnDhBEARBEARBEIQIhDhxgiAIgiAIgiAIEQhx4gRBEARBEARBECIQ4sQJgiAIgiAIgiBEIMSJEyIl//33H92+c5cP/D8y8+TJE7p1+w7duXsv0r+rIAiCIAjPePT4Md1Rto5T7t9/wHaD4IwXSd7ixAmRjouXrlD7zn2oQdPP+Zj243zjG+fs2rOfatRtSkuWrzHOhD9wzHb+uY9+/W0zVx5mjvx1glq06UwNm31B9T9uS+s2bFHvf5kWLFlJ12/cNK4KX57380ObZ2GV5y+CLlnhSb/cgXfAu+CdIiO3bt1mHT534ZJxhuimOvdZu270zbfD6cHDh8ZZ97yo+a150fPQKg/CAqf56gTcD/fF/fEczfOuI4XIxco1v9HQUZMc6e+TJ09p+uyfafK0OdwRLNjnRZK3OHFCpAIFZe6CZXT2/AX6olVTmjCyP9WoUsH4NmKCUbZJquCPHPcDHTl63DhL9M/9+zR91s/8zr27tqdxw/tR4dfz04LFK2nK9J/483nwvJ8vOMOdfr3MbNj8B+vw1Blz6dGjR8ZZITyJzHkgdaTgL65cvU6r1mygd2tUotixYhlnAzvn0AEya+4imvjDLNq8bWewTrpo0aJSlYpluSP45KkzxlnBG+7krbl2/QZ3it64ecs4E0hYyTvSOnEnTv5NVd9tQDt37THOeObqtevUpMUXfOD/kQUo0kctPqdMuYoEHSPHTjK+9cz8hcuocMm3+dNf4NndevWnBw/82+OpuXvvHh1VhSR/npxUomghSpE8KSVMGN/4NmLyWty49H7t6tSg3ruUOVN646zS2as36PSZc1S86OtUIH9uSpUyubr2VapYvjTVrlmZKr5VyrjS/5w4dZrqN/3cshc/PJ4v+A93+oUy2jNgCI2dON048/JQpFAB1uGa1SpSzJgxjbNCeBKZ80DqyBcH1HOwSezaReg0HTFmEhUsVoG2KMfoebN77wGKHz9esLobDtzyVeupdfvu9Iv63L5zLw0aNp4GDhnLnb+alCmSU87sWWj56vX8XoJ3rOQN2f22aRt93XMANWvViXp/O4xO/h3SUQsLectIXCQnYYL49MOE4XTi4DY6uGsDfVj3XeObyAkqrydPn1LiRAkpVqzI0fCjB+fNkkW40X8lThzjrKo4nj6hp+pdU6ZIZpwJJHPG9NS4fh1KmyaVccb/IDTIXUx4eDxf8B/u9AuhIuh1fBlJljQx63DunNmMM0J4E5nzQOpIwR/AIYPzgE5cc9196vRZ+vGnhVS5YhmaNGYgTRj5LQ3o8zUdPnqc5i38he0kgLofnd0HD/8lob02cCfvf//9l/bsO8h2Udy4rxpnQxIW8hYnziBJ4kQ0ZcIwPvD/8AKF6fSZ83Tm3AXjjHtw7fkLl+iPnXv4QFy9LoxhQe13qtL2TSv480Xg8eN/6fCRY/zu+MTfZvD37dt3CfHGDx89CnQ0bCz2gYK578CRwPuqSs5uvDKuQ28LfofhcwyjW4HrcF9ch+eYe8I0Dx8+epYGl3dD+vEe5kVaYGDfxbvh/w8e8rvq++I7/O0qH2DWIXdp9vReOi337v3Df+MTz3JNm7vnm+/tTha4D+6n483vqmdgxM+TjO1iN880SIs5vcgndyAsEenEtU7KJq7D9TpNiASw+1ug5eWq6/i/q95oIHd93uo6yN61LLnmadSoUSla1Gj8Gy0jO+VHP0/nvc5fb3Kzozsa5CtkiWuh7673xN+eZI73xPtqHbRCP8OOHrmCZ+GZdn6Pa63yV6PTas4bp3quwe+gx1ayNeuMK3Z0H/f2Vg+ascoDLQundYNZHrgev/OEJ5nj2Xhf3NMV8zvieehkswL3cM0znNPyxWGnTJmfh3YD99SHWW6C/4Ah3vazprRry2oqVuR14+zz4dLlq+q4QnlzZTfOBPLHjj0UPXp0Dt+LGSMGn8uaOQOVLF6Ytm3fzfqhSZM6JevR0WMnjDOCO9zJGwMGbVs2obHDAqhuLc/2sr/lHUVVFiFr20jAgUNHqE37rjQooDu9XjC/cfbF49jxU9S972CKEzs29e3RgUPiXEEWbf3jT5o0bTZdvnLNOBtoRCEMqm6talyxeAPGft/+Qyl58qTUpmVT42z4AcX9bthYHsHp1rkdxY4dMp7YHXv2HaIhIycGizPGKCPmvf0vXy6KEiUKN869AoYa3wZSqEA+6tj+U8vYZaRnyfK1NHPOgmDGecb0adVvWlJqlRf6ns2bfEDVK5fn7xFXvnrtRvpx7qJgo1EoyJ98XJ/Kly1pnEGY7g3qP3i0KrAnKUH8eGwUgPp131HOcWVONxrrvgNGKCPkJsV7LS435JDNp00bUJlSRbkxHjhkHF1UlUe/Xh35PliUYOKUWXwvTeUKZahl84ZB3/Xq2o4K5s9jfEtszA4Z9T2Hm2qiRYsWlJbH//7r9b1Q+XfpNZDOunQ6oGJyTZvr8/8+c46+Gz6B/j591jhD9MorcahJw7pUsVwplgXQz6igzuF7zB35559Agw/pRWVZtnQx/tuK0OaZ/n3999/l3rX9B48Y3xAlTZKIOrZrSdmzZjLOBOrRTz8vU8dS/j9A2Xy7wpvUpEHdoBFhq3Th+qkz59HiX9YElQe8a8H/5aH2bZqzPngDhuCQURPp8uVrLHOE1ALoGp6HMmOuWxDGMXLcFG6QundqS1FV3eGqXwihRMiHKzpPkcdz5i1RxszHtESlHXLS5MqRlbp81dpt2rU+x4kTm+WIPNH5C7nVqFKeRymQ1xq7uoO6EmFEmAMSPXo0DsNDfpvLtB2ZW+WV1svUqVJQSlWHou7Q+Y20NmnwHlV9+62gutjqHgDOy/c/zOaFZLSRj983/rA2VVfvbn5vgHcaP3kmG2ZWbcT8Rcs5D/BdsmRJbOu5VTlFXdT9m++4txh1iRnoxD5VFrSOALu6b6cedMVTHjipG9DrPXzMZLpw8bJxJlB3dP2q75kiWdKgtsLqnEbrfh8lb+iVBm35t+odzaPXGEVEHuN9zXKzkj3O/bLiV2rXuhlNn73Aa5nS7Qbai0QJE3DPvrkdc9U7wRqUkx59BlGmjOmei10UGlCHzFVlr1+vTkHTRqADg4aN4/b86y9bBbOzft+6g4aO/J56d2sfNMKtr8eoMOrdF5l9+w/RZ190pnPnL9LcGRPC3ba3krcrVmXbjL/l7feRODgKM+f8TLXqfczzr/C5ZNmqYBOT9Tyt9Rs2cyxy+ap1VQP1J/2pKu136jbhA5llBg3flOlz+Fp398X8Nz3vq3rtRnRKVXLvNWgRdA7HoqUrjKudzxezkwagY6wXLllOW7btoPcbfkJ5C5el1u260PETp4yrgoOG36oh05w49TcVL/I6TRn3HS3+aRLNmjKSXi+QVxkiq+nkqdPGVaEH8jHLA/MKMb/QCjTaK1ev43mEeD8c+P+KVeuCZKJlgXtlzVucxk+aTj/+tIByFSwd9Azkgdk5cwUTQfsPGcPGy8RRA/j9J40ZRBkzpKV+341SDvtRvi5vrhw0anAfDi8s92ZxmjZxKLVr04xiWcyn0MbeDzPmUpmSRelHJU/cd+zwfvRGofyUOFEC40prjiuZIPxM/+770QOUgZiC5i/8JagRh7GMScUwYAZ/243TM2/GWOqkjMnC6hnIb+jUpKlzeF4SQh5wzZypo5WBUZ/yuPT2mIERE9DzK3pNNeoNP6jFv2vcwH2FgDQMHDqOrqq09enegRbN+Z7mzRxHLT7+kLJlzRike97eK36816j/N535meCrLz7hZ+McvnPH5StXKWDgKA47GNK/Bz8fzyhVrDAbh6gcXcGiLSuVI/Ft7060cPZE+i6gKz9jqTKetRHoBDt5Zmb2vMWUL08Ovh7phdyQpxOn/MiGE9B6tHDpSpblglkT+NoenT/nsItVv27g69yBHvSlynBr2uh9LtM4Rg7+hiq+VTrIGfNGjBjR2cjDYj4XlKOuwf/Rawgdg8GnuX3nDv2lDM4c2TKzMWsFdEnrly5LOFDGNBjNQGNUIF8umj11FM2dPlY5MeXYaN6xa69xlXs2bv6DVq/bRN06tgnShwrKyYBztX7jVuMqZ7pz/MTfvAIYwohmTh5BMycN57qiRtUKyiBPwteEVubbtv/JkROjhvThtOD++fPm5OceOvKXcZU1qDNnzlmo2rvd1K1T4HvjaKEM7tnzl6g28IBx5TNQNuFU3b59h0ddzCBv8Zvs2TKxAwec6rmv2NV9O/WgU+zWDSdOnuZ6D6MRyGOkD/VrrRpvU6YM6YyrQg90dOCw8fyuun5FmShcMB87rna5cOkKdf1mkNcyhfpn9PipPMfme9Umjh/xLX/my5OTHVPYCWgjrHBqn8AJ/X3LH9Tg49bcXpcqX5MGDx9H1z2MfNoB+rNt+y76tE1Hfr67+8Imwxy0eQuWUtE3q9KEyTO4A6pTt748Lw32BOSusZNes+2Xv8hbbPcMHTkhyCbBARlBVhqkw/y9J7vFrsx8sRXNnDl7nnUgziuxjTNE9x88oPMXL3MHhGtHedLEiSha9GgsPw06WjD9BPcydwLYBR26fQcM43fEu/rLLoYM167bGCRD2N39B4+kwf178fQgswNnV5fMPgIOpAeRA7hWp9/TOhpW8nZKaOXtil+dODQo/QaNoAMHj9C4kQPp+IGtNGxQH1qzfiNNnjabGzAzN2/dot7dO1LrT5uojF3BlfBPM8ZTieKFacWadUEFE6ELXXv2V43YbVo4ZwpnIO6/5Y+dwe6LTMV3ONYs+4lyZs/K3ro+h6Nmtbf5WmCeL4ajXZsWxjchsZsGM+gtSJggAc2aOpa2b1xBuXJmo14Bg7nC12TJnIFjltHAuM5t0qCRw6jAx8roQOaDV199hRuix48eK4PMfiPhDchHywMyTJLEfWjp0uWrVeO8kLp1/oL2bFvLR8+uX9LKNaphV/mJ/EMl0rdX52Ayxrw8zM/T55AHyAsrMILy8+Ll7Ii1atGIkhuGCkZEPmvekOWLng9cB2M2Xry43COL69HrCaPMykjANgSLVEWDUbwmjepSXCVPgJ56yNpq5E4DgwA9vpC//l2ypEnYUEQjjBEv8Pjfx3Tjxi1Kny41pU0dOPcBaStauAClT5ua/36k8g89qAh1SJokMZ9DIS9TqhglSRyY11YgfYi9xptBxnhXc4y2K8gTVLYtmzVggxMywXtg9A4NP7DzXvgdeoN14wA9xLNxzp0xhgr2l5XruEJFnmXJlJ6vxTMaN3iPHRAYXyhjZjIpJ71bp7bc243e/WxZM3EvOxwTp4sP2c0zM40+rM0j3bge6YXcMFJyTDkK6HUHWo9gaL1d/k3OX1xbIH9uqqScgs1bdwaNFFiB98CIVO5c2fh3OKAb6LDB/+2SPUvgyOBZVedojhw7wfVLvtw5aN+Bw5wPAO+KOiivOu8O6JLWL12WcKCMadDINv/oA3pXyRTXQ2/R849wdDurXKK+69XlC+6swLtCznWVvDHK9fuWHTxi51R3bt+9yyG+6AFFngPUFW+VKcF5A0Ir8/x5c9FXn3/CdQWux/0bqDoD4UubtmwPkrMVfymDfo1yXDGCiCgB/fy3lPMK/cLvzQapJp1KH3putysDwxyCd/78JXbasAgI3tcXPfcVu7pvpx50ip26AXJaoNohOP9ftG7Kz0L6kPeIXkmX1n/z0eDMQkfN9SvKRBUlmwL5chtXecdumYIBeOrvs9xZgUUWAD7x9+69B1UZuO+xDQN27BPo8oxZ87nzum/PTmzTrV76E49Gd1UGsNN6WIP7wtAfOGQ0fdKsEdsOyxf+qNrv1yzve1nla5VKb9GMKaNpx87dqhydoD49OtKQgb1pmbJD9PV202u1VgBsE22T4IDdYnaCMEqnv4Nd6Q5fZGYnL6xA+UKHs1VHtRUxYsagGKqeuvdP8HDiNGlSqnP3Le1YT6AO6Na7v6qXM/A74l379+lKs+ctpJ8XPZt7Z8buuy5bsZbliHzGfWF3v6HquWkz5wazFZzoktlHGKp0545qLxYq+/K9WtVpw+qFfN7T6J5TebvDV3lb4Vcnbvee/Twq1PazZtxwoCJD49P6kyaqIV5L+w8eNq4MBBU6RqDwiUoJRgLCX7Ipg+TWTcSLBy6HulV57Q8ePKCPGtYLmjSI+7ds3ph+27iFDh323PvpD3xJQ8KECShH9izcyKAyqP1ONZVp/wYLZwOorL1VuGZg3MAgxwqB6FUxh1iGF+hl2b3nAL2uDJHMqgDjHXFkUI3q4P49uVDYCfH0xk2lB1iOFc4WekDMwOnJnyeHqtBP8QiTEyA79EaVLlGE5R8a0HmBHl/cD42wnpuBgp4hQxrau/8w97Jj5MIVjITAENmojDcYo/7omXEFFc/+g0eVEZWGK0y7uHsvp2CDS4ymZs2SkSf0m4GhWaTw/7j8u4ZoxnvttRAjRYm8jJDaxc67IRwPdZgZxMLDsMJIFoAeoVe8qGpczNfi/3hf3B+hWe5A3qMsIbwOMrBq9OyQUjkUaVKlVLp2iJ0AHBiVQkcWjGqUEa1/SDNGfrFya2hBJ4/5vZFfZsPHEzDktWOlQVhY9myZeVQRc/Kc6k5yVSfDqZr643wOg7WSZ2hlDiMIIahmECWQQZWvv0+f4zS7Y4+qC9BZ6epAw/nKlCG9Ss8F1k1X8BvUgUeOnqArV5/V93tUfqOjyt2ovb/KsBV2dd9OPegUO3UDRkmgO3lVG5EujW/Ooh1Qv2KE1Gn96g47ZQrzVNFxCYfUDGSNfMaiV96wY5+gXC1f9atyYD7mth3pwrW1albh9njxUt+2SIAOz1+0TDnXLVT9lIfTALuqfr1aPPq/SDnf5nKJKSCQAzqx8d4xlTMCWxH5is6Te/cCR1/DKr1O8CUNdm1FM7ADMbKO35j1xVfgGEG2TkAbMmZYf7b3kG6kI1vWzFS1cgXarpxtlA1X7LwrRu22/bGTChbISxkzpOP7Qj8qlS/LPsaZM+eMK53rkhnU/0gr/BRvMnwR5G2F35w4CAmZhgbYNRQtiTK20TjDqHAHhxMq4bgCY2TvgUOc6a5zLJBRMKiOn/Q+7BwafE3Dqy6NjK54rl135nAAZDbCj9p06El1G35G3fsM5t6/J/8+sSwoYQ3eI48yRFat+Y2HvG/cuKnkFNhw+EvJAXqM8H5onFydQjwjsEfjH17kwwl6ZaAECQJ7MZ0CQw1OV7NWHenDJm05rBO96ED3ciF976vK7Z1qFWnR0lW8IXf/wWOCGY4w3hBK9cbr+XmvrgbNPuf5L/4Me4LuoMKAIWgeSbHCzns5RT8f8z5djV+AUC9c48nZ8Qf+eDfdk6nDNKBHuG+HrgG8cbL5GDBkLDsLMLjcgXkJHdq24N7JVu27U9uvetHW7X8GlSW7wKHJmiUD17HYZgMhk+ipz5MrGzs/t27f5sYOoxMIzYLD4S+H2J+gjKOso8wjT5zqDnq7MUoGMKepeetOvDGruXPEXzI3g7Qhjd4aZugNeq+hg676grm5CIVylw6EVOJ7HVIJBw2hlHAIdYQGCIsybIVd3bdTD4YFeFfoUby4cb3We6FB66id+tVfoOMbI8EIy9X6gs8df+5lpz7uq97Dgu3YJ5iDCidJj6BqcB3mBGGqhTnk0C6Y6oKRiEwuHTPoUMWI87ETp9hodkc0C1sRhFV6neBLGvxpK4Y3cK5dO+PwPugwsqoL7bzr0/+euq1HYW9DvprQ6FL2bFk8RptFBKxLgg+gkbxy5RpNnjqLsucvGSzu9PXiFWnDpq2q0fS+AqMrGI3DqJwnxwB7ZYUlzzsNUEBMRh09YRqHjGCuA2LeMR8JPRnPi3drVOZQSoTqNWrWlue8YS7iuIlTw9wg1zx48IgLdPRwajwBQoN69B3Mm4o3qFeL51h8P3ogNW38vnHFM1DhYPLq9O+H8RycQ0eOsdEIB1wbMAiDwYIKCKutWbUirduwRTnrPWzNK/InTt7Ln2gnB8Z7WOHvd8MIuAa94VhEAOFdrkcH5VCkchlBNoP6pEjhAjR57CCeCP2Kule/QaN4Tx+rERl34D4w5i8rR+2SETaHRhCj1Rilix8vHjt1cPCwGm72bJkdjf6HN6hrsfKlN6x0B51tIwb14vlX6MUd+/0M6tp7IGFOFvCXzK2AcemujdCgQxOLV1jpC0LG3c3LS5UqOTvkOqQSoZSY61ioYL6gDq7wLsN2dd9OPSjYB6PNNatVojW/bqIxE6fzghX4xN84j+/9AQxrdx3sACPm6FhwyoWLl2iXcjj1PCTzgblp+N4XZyus0uuE8EoD6jyruftwqNChhLrRNTQbo9MYPU+ZPOTUHfzG1RnzBsou5qJhXhvmJ+o8bNexp3GFbyAtOXNko51KRzDyhuego37lmnWUL28uHuHUhEaXuL7mSQPecSdvX/FF3lb4zYlDJZ00aWL6vFUzjl/Vcafmw5eVf2LEiEHxE8TjEAF3lX3qVCmN/4UNzzsN6F3fvnMPN37muQ7PGxhaRQoXpIEB3WnJ/Gn0177NNGJwX55/M/77aUHhsKEhgTI+YdTcvH07RM8MKigUUPTs2Ol5NKMrsWuGYeeEP/ce4BDPDp+34Enk0H1vIM+qVX6Lxgzty4tlYDEA19E29KZjw+XhA3vxBGSsOuePUVYY62jUUYF7Ctf05b3s4O35Z89dZGPQdZTbn/jr3eAcoRHEHAAAPcJoBAxzjKa6HgiBs/MsVOaYx4UFYj5uWJc2b9tpuciFJxAm+Oorr/AcqcDw2dQ890OP0iHUEqNAt27d5hG6FxHo++mz59n5RK+1r7oDRypr5ozUpUMr6tSuJTuwa9f/bnwbiD9krkHoJ4wzRAZ4Cs+GIwYDDqMoVvqCUUJ3DTvui/BRHVJ56OgxiqfqRq2LILR6DkMFveJ28EX37dSD/sJT2+EN5AGMLDsgmgKjcBiNM89XDEtgh2CuHzpjIOPZcxfzuQF9v6ZK5UsbV4WexIkScTv7n7J9rEB4oC8dyfhdiWJv0I5NKyxtRU/z5D0RVul1QnilAXUcbDCUH/NIU+AIVErL0GxEH6CuTOwy3/769Zs+jSTvV7YeVvasXrUibdvwS1D+Yb5ZaMC7vV+nhqojclGN9xpT5txF6Z33m3D9hLBJs/zCSpdccSdvX/BV3lb4zYnDC0LgiGuFkeMv0KORL3dO3gPF9b7wzNGwYw5dWBKWaUDF622fOPSooBFyLXiYwI9lZJ8XGC43h/6g4UPPd8Xyb/LIpD/CFjA5FfMMMJ8CxomZU6fP8GiVaziRHTB/AYbUshW/BvXQa5An7px1gDAdVCIIpdXgehhyruj91DRYCARLmUM2OFDZu8oJm9xi5UDolj/yF2nF4iXotd/4+x/B3s38rk7eK7obQ9MK8/P3H3i2XD/ApONNm/9ggxsGcFjh5N006LQxgwZx9a8b2WjNliUjn9N6hPO+jOKg7jCXIa5H8+bkWH6sRghQ9jFy4W10G+GRCJPEtQgxwaIfaCRwT9RP6AxCKCVGfq22MnEFI2FotMIKGDn/PQ1eztABhMU/8ubOzga/U91BCB+MWw3eHWUJjiBCSoEdmXuC5xuZkg09woqVcJDhFHpqmHPnyMYy/XXD5mBpsAsWyYBeIh//3H2A8itHybwAki96bkbPv3I1VNB5gWeacaL73urBsEC3Hbt276c9e58t1w8gExzuQB7CyLp05So7qhp0gGBPOjOQGXQMYXQHjZWSNeiUQGizv8F2CT8vxh6ulalFkw95YTQsaIORWuizv0AeozydOXfeOBMIyhlGfVH27Dq7ZrAlTdSoUULcN7SEVXqdEJ5pyJA+TYjOA9iriDQ4ffZcsMVwMBd1y7ZdPIqlF4gDsEHQSYY60hydAb1HfWzWf1ewajoWqMKCIxjs0OCeoQVpRweFdg6x0N6nzRvz2hlmwkqXrLCSt1NCI28r/NpCF3mjoHI0EtGY8VOCVprBaMxvm7bQV12+UQ3Bs5XTnFC0SCHVsMSmH6bPDpr7hPuPnTiV3ixVjHIqY8WVWEo4cVxib0ODL2mwAwyrTj2+pZ59h7hdOQwx/Wj0Fi9bzdfA6UAF/u3gMZa90+EB8hJ5+u13I9lhg2GBA/Hei5etUsZFbtW4hRwxxEiBE1AhffBeTV6wYODQsWwswZiF84Z9oxBKiX2lcJ0TUICqV6mgHMGzvEw6JsDr+3boEhC0bQH3TKvKCQus6IKLlcJQIWJPH+QFjDfsVzR6wtRgRi8a9bZf9aTJ0+bwJH8YK9jvbtmKdex4pkiRlPcC+qTt15yfmGMCY2jT5u20aesOXn7bX6NT5UoX55GaqT/OowXqWeZ0Y/89OAp23wugIYJOwglGOcDhqbcbq6YVKpCXRo7/gY0+NGaQOULYsD8ZRpg9jWA4ITR5ZmbW3MU0Y/YCvhYdLSPH/cArv9V5pwrPvQLQI6waC33pO2BkkB5hcvtkdX8YkBrXdMFI/m7EBJ7fit8h77Hc8dyfl6nKPSY7L2Dtuk3Uqfu3FDBwJL+DO9AgoGceHR5oDMxLqGM7DjwP+4lhJVQsDOGNJEkS8oTvbTt2swEPufmytYM7zqm6LGDQSJYR9AFhxJAxGuVqlcsHGaN2dQeNI/KrXec+XI71RvTzFy+nq9dv8OqTdmXuCZThwarM4PeQCcrTtFnzefSpRLFCxlXWepg5U3reG23V2o28ZyP0CmnECsNjJk7jOsMT2EYA2wlglB6OLebJmY12J3qu62LIUzuUWPAmZ/YsvEfbz4tWcLlev3Er9QwYQrGUc2fGru7bqQfDArQJaBvwntgnDvqFd4XMoQPY6gGOnB51gwN8925g+UJZwuqlmLeH7QwgR+hUD9VOW7W52H8vfvzXWH/1c3B9737DlKEbvPPRH8BgjhUzBoejQncgd32gjHpyUJ2Asli5YjkaOXYydwzhvsg/rDyIKJga1SoZVzoDoye1a1alYaocYTspbT/gGV/36Mc2oy/4kl7oSew4/nPswkpmVqB+ht3guuIlyhXaaMyzR1uAumDqjLmsK65tLepAjNqh7TCDLVO69h7E9ZI7pyVrlkzcobBj1x6uQ3AcPHyUnSq7YYpWwOHFAjCoj8yOjhVhpUtWuJM37HJsXYPj9OnAqVWImMDfqOvMtlFo5G2FM8vXC1CMLl+1pXTp0vB+DYhJLVe5Di1f+Ss1+6g+pUoZaPg4BT1iAb07U7x48XhIFffF/Yu98bpqROpxJexKiuTJeDWg5q06BIuR9bRPHOJnzXuFmPcJ8SUNTkBF4q4HDQ1/w3q1WBk+/bwLT1jHnnq9u7bnBtcT5nfE3mzYU8XdOwLzPnHYl2Pj79uC9sXDoffQQF6OGtqPHQPs15IlTzE+MLT+3rvV6aMGdfmdXClfrjQbXk72iUNPc+cvW/LoARzXRs3b0Tf9A4fI+3/TiXu+fAHG4ddffsYN9FddA/i+AYNGqYKaitKqihhgYix6XzDHBAvLABhrMA6wx9XHLTtQyy+6csMZ0LMjj6JpUJl/VP89DtPCAgt1G2FBmu+4F6xZ43ps4CF8CstJwyj76JMvqV7j1mwgFnujIDsL/upVRWgalnPHfacpowTpbtGmM6etZLHCvFiH3fcCcAqwpxd6pZu16sQL7pzyYKygbmjz6Uf8fMzdaPxJe5b5P/cfUJ9uX3KvvL8ITZ5p4DwjvXBeIKfWX3bnUDss/w29MedLoYL5eKEMGLxajz5r1001KIfVez8zDlzThcbpw7o1uZzASUPet2jzNT+zbcuPgxxFvTIbGkvzyoRWIEwSnUyuo23oBIGBjwYI9YlV2XQFeYbFKOD4dO7Rn+WG5f79BUYzIbuBw8axPgxVTg0aSZR18+iSXd3BOyFUL6OSMcrxB03acF5gSX9sdI2yZlfmnqj//juURl2nZYLyhLQhjWbjyEoPoTfQH5R/dAhAr5DGr7r24/z1Fv6IOgPbCSAsCj3SkJcZJ3qOjdbhiGGvPb1YCuSC7QiQduyTiLI9XTmomMNXpWJZvsaMHd23Uw+GFWgb0EZATtAv6A5kjvmE6BhAfmDEN3++nDyCPWna7CADCh1f2E4C+oM6AI5fnXercP6bRx2AXlAHK+/p5wwdPYn1Ue+p6U+Qb9iOA52aX37dl+Wuj/oft6Wvew5gwz20QD4NPqhNTRq+T916D+CwtgrV6rL+BfTqzHWKL+C+CMH7tHkjGj1+Cu/VhqN3wGDeXqdksTeMK53hS3qRlzWrVuLOMm2T4HC1jcz7xGH/YazzgPUe8Ld5P92wkpkVKFuoB1yjlKDT7ds042fBMUBdgBWwUQ8WyB98ywvsJ4rRYrTpZrDyJ+za4ydPcweHFVj9uFfXL5WD+BOviVCtdkPuxKlQ7k3ePL1Bk1ZBcnECQrrfVvXNxCkz2K7UcseBfePW/fZ7UEeFE10y7xOHeXuuexab/QMr3Ml75+59vPE+jpVrA/fHxN6Y+BsL1ZmnxYRG3lZEUYLwT5eN4DPwzNFL6q3HAcYUKhWs5mM2Fl4mICvsreZPGaAIwNBB7w1CiVzzAY26DlMyf6fTYvUbM7g/esfRS+Uu3d7S4E+0HkHnMGcElaAZu+8FnFyr0c9HhYXGxvX5/iC0eWZG/wY9+p5C5ezks7t0ecsTLOc+YuwU6tKhtaXTGZboNPsrv/CuA4eM486cfr06slzt3t+u7ug043tch+td8SZzb+hneKqL3OU3CMsyb1fPtQxcdVunDZ/u5GfGju7buSYs0TKx0h39vlpf9HfmNHsr/0DfB5925OYr2Dai/5Ax3KmEEUO8F/j33ye0bsNmmjNvCWFPSywmI0ReoGdTZ87jsN/2rZuH0E87+osO5KPHTtCXbVuE6FDBaDK+796pLXckhhdYxXfcpOlU552qvGWBBnXl7r0HOAKsd7cOlCtH+M7t9iZvO/hb3n4diRN8A42ZnQYc16AXILwbvxcJvLu/ZYAGGyMvuK9VPqCgWn2n0+It73B/GIme0u0tDf5E6xGep40VM3bfCzi5VqOf74vhbJfQ5pkZ/RtvFbadfHaXLi0TqzxBA4xFOTDfxencT3+g0xxW+eXk/nZ1R98TERTuDGlPMreDfoa7vAbu8hvgmWFV5u3quZYB0mlGp82T/Mzgem+6b+easETLxEp39Pu6fmdOs6uMrND3sSs3X1mzfhPvC4k98PR74cAIdvkyJXmkTq/cKkReoG+IpDl+4jQvrOSKN/3F/C5syo8RK1eHAp0eK1av59H28HTgwOZtO+joX8cpadJnc/cAOtwwvztVimS8CnN4403e3ggLeYsTJwiC8IKC+TfjJs3kBaMwN9ROGKQgCJEfhFbr+fkajBRgT8DrN29RoQL5jLNCZAaLyRUqmJfnCztdUAT7DCKEG3PozGABv4FDx/GaAwj/Dm8Qzo2wTD3XTgNHZ+ny1fwd3vt58KLJW8IpBUEQXlBQPWPBiPRpU/NS+pEB13BK9BILgmAfLGqD+TYPHj6iIoX+x3UDQs2wtQicO8w1fKtMCR45ECI/WFgDm1pjoSO7I8BoW7DOApwK17UVsBAH5rhnyJA2TOesugNp+2PHnzRj1nzavXc/zycEuXNmp7JvlqC6tWvw/LTnxYskb3HiBEEQhHADvZd/HTtBDx89ppw5sjwXI0EQIjpYihwrxx756zhdunSVkidPQtmzZuZwLMzHEwQh8iNOnCAIgiAIgiAIQgRCJlgIgiAIgiAIgiBEIMSJEwRBEARBEARBiECIEycIgiAIgiAIghCBECdOEARBEARBEAQhAiFOnCAIgiAIgiAIQgRCnDhBEARBEARBEIQIhDhxgiAIgiAIgiAIEQhx4gRBEARBEARBECIQ4sQJgiAIgiAIgiBEIMSJEwRBEARBEARBiECIEycIgiAIgiAIghCBECdOEARBEARBEAQhAiFOnCAIgiAIgiAIQgRCnDhBEARBEARBEIQIhDhxgiAIgiAIgiAIEQhx4l5g7t9/QP/cv2/8ZR/87s7de8ZfLze+yvDmrdv06PFj4y8hsiL6IQiCIAhCREScuBeUJ0+e0vTZP9OM2Qv4/3bRv5s8bY76/xPj7MuJrzK8dv0G9QoYStt37DHOCJER0Q9BEARBECIq4sS9oJw8dZp27z1IVSqWpWjRnmUTDMgFS1bSxB9m0dSZ8+j4yb/pv//+M74lvha/OfLXCXWPM8bZlxMrGUJWJ/8+Q7PmLmIZzlv4C128dDmYDBMnSkhV3y5Hy1ev92mURogYuCtjZs6cu0B/7NxD5y9cMs6IfgiCIAiC8PwJFydu5649VPXdBnRCORxWXL12nZq0+IIP/D+y8ODBQ+rWqz+NHDvJOGMPOBSbtmynnNmzUMoUyYPOrVzzG336eRf6efEK2rV7P61Z/zt9+XVfmjL9p2CjbvgNfgsj08kIgxV4h6EjJ1DewmUpU64ifOCdcP5FxkqG9+79QyPGTqF2nb6hVWs3sgzhxLX8ohstX7U+mCP3v3y52WHes++QccYZ0PmPWnxON27eMs5EHCJreTRjpR+uXL12gwYPn0B9B4ygnbv3GWcDCa1+CIIgCIIghAYZiXsBgfG4bcduKlQwX9AIwf6DR2jGnIX0wXs1adKYgTR2WAB/VqlUln5ZuY4OHv6LrwP4TYmihfjc9Rs3jbO+cez4STp0+ChtWL2QThzcxkffXp0pduxYxhUvJlYyvPfPPzyXqW+PDjR57KBAGY4eSAX/l4fD6o6feNbJkCRxQsqfNyft2LU31I6w8OJhpR9m0CmyYMkKunvvHr366ivG2WeIfgiCIAiC8Dx5IZy4JIkT0ZQJw/jA/192zpw9z4Zh5ozpjTNEeXPnoDFD+9K71StRzBgx+Bw+K5QrxQ4VRpXMpEmdkg3Ro8dOGGd84+HDhxFyAQcrGSZLmoS6dWxLeXJlpyhRovA5GOjl3izOo3S3797lcwDfQ+b7DhzmEZeXiZehPFrphxmUp982bqV6dWpQwgTxjbPPeJn1QxAEQRCE589LMRKH0Kkp0+dwKGB4hrg9Vs7PvX+cz5mBYZgyRVKK91pc40wgr8V9Ncj50MDAjBfvNfrH5Tnx1bl0aVLRseOnjDMvF+5kaDXqAtlFjRqVokWNZpwJJG3qVOwIX7l6zTgjRBbc6QfAKN3MOQupZPHClCFdGrp9+47xTXBEPwRBEARBeF743Yk7ePgotW7XhedQla9al36YMYcePAw5fwqOFBwqPc8Kh6e5YxcuXqKAgcP5nrgWn/j77LkLxhXPwKjK+EnTg66t2/ATnqO0Y9MK+mHC8KCedXdz9dzNZ7KTBvN75S/yFi1auoLnlOFvfXiaU/b48b908fIVSpEsqa2QxcuXr/JIQIb0aYwzgcSKFZMXYMCIw8OHj4yz9kA+6LS+16AFbdi0lV4vXtFt+vH/mXN+plr1Pubv8blk2Sp69Cj4c58+fUpbtu2kT9t0ZP3AAV1BqKh5PhowpwEH5GjWLU/OuBMZQj6Ll62mLJnSU8YMaY2zgcSLF1fJMRadPnPOOOOcmyqN3w0bSwWLVWB9+fGnBSHkgr9XrFpHDT5uze+Ka7v0/NZSt7XO7vpzLw0ePo5Kla8ZdD3004yTa52UR5SXxs3bcn6gcwT3xTF89EQue67Y1Q/gpJw7udaMJ/3QYZT4rPNOFYoWPbhjb8Yf+iEIgiAIguALfnXiTv19hrr3HkCvF8xP2zb8QquXzqEypYorI3mVccUz4EjBodLzrNq1aWF8ExI4KT37DFJGdjpaPG8qX4/P3DmzUcCAYXT+wkXjykCDcdCwMXTnzl1aOGcKHT+wlQYFdKf7Dx7QIpUOV2fBLnbTYH6vg7s20Id13+V30++Jw9OcsidPn9DDB48oVSrrxRbMIBxsvXKw4r76CuXLk9M4+4w0aVLySCAMUie0adk0KK1zZ0yg0iWL0s7NqyzTj9X5+g0aQQeUIzZu5ECW97BBfWjN+o00edrsYM/+fct2GjJyPH3SrBHt2baWdm9dQ5UqlFVORT86cvS4cVUgOg1ahlhtc8/eg9S/T1fat31dMGfcFW8yxGIdk6bOoTYdelK7zn0oS+YM1L1T2xCjMnhHGPq37/i25x6cFKwe+ql6X8hv1JB+NO/nJbRQOQlmFixeTnMXLKG+PTux/DavW6qcygzUqVsfunjpinHVM6CLK9esp4Yf1qGNaxbRisWzeJT2m35D6LpLaJ/da52UR83Rv45T1bff4vvOmT6eDh46ShMmz2C91DjRDyfl3Mm1rnjSD8xxW79hCzX6sLbXUNLQ6ocgCIIgCIKv+M2Jg3O0dPlqyqyMz/fr1KBX4sTh0L8M6dNS9SoVjat84+y583T5yjUqWrgg3xfgs2a1t2n0sG8pVcoUfA7AeNu+YzeVLV2c4hrhh0jDW2VL0Y6du+muj5tgO0lDaIATilEChPd5Y9fufbT61430doUy6vnWDsut23fCdE7b7j37ean2tp814zlnkHe6tKmp9SdN6JeVa2n/wcPGlUQli79Bk8cOoQL58wSGL0aLRuXeLEFZM2ekXXuCr/7nyoP7D6j2O1U4T73hTYb31feHjh6j+8rBwOggRuMuXLxsfBsSV8fICXlz5wzSwxzZs1CdWtVp2/ZdwUas6rxbjUYODmA9xXVwDqpWrsBlCgvLuJIwYXyqW7sGyxvgs0mjeryIzS6VH2acXOuER48eU45sWYPuC/1v+OF7tH3nn+wka5zoh5MyFpry6E4/kG7sGVemdDFe7MYuodEPQRAEQRAEX/CbE4eQvYvKEE6bJlWQUaWJ42bUyS6pU6XkkQKEov19+mzQ/C8YhK6GGHr2MRfNChjHdpwjK5ykITyA4zF+8kzKnycn71mFdIQ3cDK2K8c4e7bMlDhRAuNsIEmSJKZECRMEW/ERaXwtxBy1aEo/YtM1L0vZ58mdg2LGjGn8FTrSpk5J3wV0pe9HD6RpE4dSRuU8de87OMTiMKEF6Y0ZM3ARGs2rr8ThUSSzYw0ZvKLOm8Hv8Ptr10PKJWqUqCHyO0H8+OwMYyVRM06udUJg+oK/G8r5rVt3lIMa2FHiVD+clDF/l0fUG9huInr06FSnZhXOE0EQBEEQhBcVv3kfDx89CrMJ/ghrGty/J4cu9ew7iEq+VYPn9mB+FEY1zCGSydQ12bJmpnUbNvOoG75DmOev6zdRmdIlLJcLt4OTNISG2LFiUdIknsO4eP+qERMp7quv0qfNGoZwms3AQQorgxSO+5Ur12jy1FmUPX/JoLlUODCHDnPpzp1/Nj9Jz436oHHLoOtyFSzNhrg3rBYkcYcdGWoQilq3dnVKkighrV63kedLueLqYPkbbHswbuJUql67UQj5RWSc6oeTMhaa8milH6fPnqdNm7dz+GvjT9pTjbpN+fj8q150+85dmjhlFv9tNXoZ1vohCIIgCILgit+cuFgxYyrDKLHxl/9JpIzsZk3q87ydXVtW02+rFlDZN0tQjz6D6NCRZ3ukYVXGDl+0pMNHj1G+N8pR5txFqVvvAfTeu9WoSqVyxlW+YTcNoSKKcliiRqOzZ60XZ7ilDP5R439gw79tyybKmE1ofBOS69dvsjxixIhunPEvWDwladLE9HmrZjzXSc+nMh+Y2wZgVM+au5BWr/2N534d27+Fv9dz3vyKFxm6gjliyZIl4XlSmC+lgUOHcNRELqNI/gTz5sZM+IFOnDpNE8cMDpIj5tBhLmJExol+aJyUMZ/Lo4V+YCXX0UP78sis+Qjo+RWPHjf8oBb/nTdXDuMX4aMfgiAIgiAIVvjPiVMGGxYZQJgfFjMwgzlIoQEjODCWzMCwKlemJKVMkYzOX3i20h7CojZv20H13nsnyFGYMXkUL6DhOiKFleUA5veYuaEcJFecpCE0YJQgRYqkvGeZ66gQ5lGNGPcDbxvwRaumlCljOuObkGBxCaw4iBEH3FNz+cpVOvrXCb+MHCJ0LV+eXHw/jFZ4AqMyx4+fpNcL5ON5kzrk7T/178lT/26W7E6G+w4cocNHjhl/PQNzof4+fY7nj8WI/ixE8P79B3RH3SN1quDzq/wpQyw8gwVCShQrTCmSJw0KffxPycS8QIiZp/89DfHsm7du0V9KvjlzZDPOBOLkWn/jRD+AkzIWmvJopR+oG9DhkSB+vGAHz2fEb2LH4r/NHSKe9APy9Yd+CIIgCIIgWOE3Jw4GGxYPOX7iFM2Zt5gdORgxCGVc8kvI1SntAkN28bKV1KBJK1q7bmOQg4jPlavX8SqUWMlPc+78RVq+8ldKnjSJ17kxadOmZsfz58W/sEGo0zvLJbzPaRo0CAGMHSe28Zd9cK/TZ87TXWNuEYADN2TU97R95x4qVeINnlP1h/q/+TAvuY+0nTl7gecjafCOffqPoI7dv6XfNm0zzoaOIm8UpMSJE9GY8VPYeAWYk/jbpi30VZdveKEZACMYYa47/9zLC11A1kjjvv2H2Dj2N64yhBO5fNU6+rrXQJo8bQ6v+ojRTKxGGDBolHKm/qGypYsFC9sMDA+OwiF7Gn/LEOGcObNn5ZU7tfzwjH0HsY9ZMv7blRs3btFP8xcHXY/PKdNm8xyzgvmDL8jh5NqwwK5+OCljvpZHM1ZlzClW+nHl6nXq2XcIfd1jAB087KfReUEQBEEQBBf85sQBrK7Xp2cn3p+qSOkqVKHa+7R+42aqUTXk6pSu+1JhLzXzfmp6LzIY1e/Vqk4D+3Wn1b9uoErV6/H3+DymHMbh3/Xl52rQK45RjZp1Pwq6Fw7Ml+nYtU+wPZ3Q89610+c8d65spVo8TwdLpLum12kaNDFixKCaVSspQ3NTsLR42icOZMuSkcPszKMJR46dYAcOLFvxK/UdMCLEcVI5oJoL6re379xRTuqzdGG0NE3qlLwi4yEPBib2ZNNptdonDvmrwXy8Ll+1pXTp0vD+b/i+XOU67Eg3+6h+sFUCsUpimdLFqXmrDhzm+mWnXrxiIWS74fdtweSi94nTc+badewZ9Hyrvf1ccZUh3v2L1k2pWeN6tPa3zdSiTWdq1LwdfdN/OC9m0afbl5QnV3a+VrP/4FFKo/TJHC5nV4Z2gY5gy4XkyhGo/UFT3gNvwOBRHLZXB6tWjp0cYr827P9XqXwZmv7jPN6f7e0aH9AdpcM9urTnEEMzdq+1Wx6dYlc/nJQxX8ujGasy5hQr/dBEiRqFoj2HBY8EQRAEQXg5iPJfJIv5+XPPflqzbgN91vyjYIuYwADFiNvWbTupX++vbS1V/7zAKNvgERMoVYrk1Lh+HeOsM+YvWk5HleP3ZdsWFFM5Chpk95gJ03h1wPdrVzPORj48yRAygCMDRwxhdBgN02GMGozq9Bs0mt4sWYQqlCtlnA3kecoQDjTmfI0cEkCZMqY3zlrj5NqXjdCWMU/68eDhQ9YtTwsOCYIgCIIghIZI1VWMkDlsnIw5L66rUCKc73/5cvPoFOaxvMjA6SpTqphySA/wcvROQTje5q07+R5mBw6cPHWG9h86Sq872AcrIuJJhnDYsLE3wjixqImrAwew9D0WkYHOuPKyyDAyE9oy5kk/UP+IAycIgiAIQlgSqZw47FuVPm3qYPOuAD4xB2rGrPkcZpUwwYu/mlyB/Ll53tLmbTuNM/b5Y8duDvvLm/vZSnrg0JFj1HfgSKpeuTxlzhT5R2Z8lSFGaZauWEulSxYJsfrnyybDyExY6IcgCIIgCEJ4EK2Xwvh/hAcjKrlyZOM96zC3rVfAd/TdsLE0aeqPdOjQUSpVogg1aVSP4viw2Eh4g3laKVMmpxjqM5X6tBotskKHChb8Xx5KrX5nJnq0aFSsSEEqVCCv7ftFZHyV4b//PuHFM0oULRRCV563DDHXEXsgVqn0FiVUDognnFz7MhIW+iEIgiAIghAeRLo5cYIgCIIgCIIgCJEZWT5NEARBEARBEAQhAiFOnCAIgiAIgiAIQgRCnDhBEARBEARBEIQIhDhxgiAIgiAIgiAIEQhx4gRBEARBEARBECIQ4sQJgiAIgiAIgiBEIMSJEwRBEARBEARBiECIEycIgiAIgiAIghBhIPo/6K4d8jpbzq8AAAAASUVORK5CYII=)\n",
        "\n",
        "maybe sadness(5), surprise(6) "
      ],
      "metadata": {
        "id": "mEQAt6dap559"
      }
    },
    {
      "cell_type": "code",
      "source": [
        "!pip install datasets\n",
        "from datasets import load_dataset\n",
        "daily_dial_dataset = load_dataset(\"daily_dialog\")"
      ],
      "metadata": {
        "id": "e4O1CF4np81f"
      },
      "execution_count": null,
      "outputs": []
    },
    {
      "cell_type": "code",
      "source": [
        "# merge lists to change a dialogue to utterances\n",
        "DD_utter = sum(daily_dial_dataset['test']['dialog'], [])\n",
        "DD_emo = sum(daily_dial_dataset['test']['emotion'], [])"
      ],
      "metadata": {
        "id": "2A1XD8roqoYK"
      },
      "execution_count": null,
      "outputs": []
    },
    {
      "cell_type": "code",
      "source": [
        "DD_utter[:10]"
      ],
      "metadata": {
        "colab": {
          "base_uri": "https://localhost:8080/"
        },
        "id": "Cpy0HjcRVHM_",
        "outputId": "ad112fdd-dd2c-4a21-e944-b76520c5aa3d"
      },
      "execution_count": null,
      "outputs": [
        {
          "output_type": "execute_result",
          "data": {
            "text/plain": [
              "['Hey man , you wanna buy some weed ? ',\n",
              " ' Some what ? ',\n",
              " ' Weed ! You know ? Pot , Ganja , Mary Jane some chronic ! ',\n",
              " ' Oh , umm , no thanks . ',\n",
              " ' I also have blow if you prefer to do a few lines . ',\n",
              " ' No , I am ok , really . ',\n",
              " ' Come on man ! I even got dope and acid ! Try some ! ',\n",
              " ' Do you really have all of these drugs ? Where do you get them from ? ',\n",
              " ' I got my connections ! Just tell me what you want and I ’ ll even give you one ounce for free . ',\n",
              " ' Sounds good ! Let ’ s see , I want . ']"
            ]
          },
          "metadata": {},
          "execution_count": 7
        }
      ]
    },
    {
      "cell_type": "code",
      "source": [
        "DD_emo[:10]"
      ],
      "metadata": {
        "colab": {
          "base_uri": "https://localhost:8080/"
        },
        "id": "spCsyZJGVPzg",
        "outputId": "ef7bc9b4-0325-4afc-88fd-d75ed14ab815"
      },
      "execution_count": null,
      "outputs": [
        {
          "output_type": "execute_result",
          "data": {
            "text/plain": [
              "[0, 6, 0, 0, 0, 0, 0, 0, 0, 0]"
            ]
          },
          "metadata": {},
          "execution_count": 8
        }
      ]
    },
    {
      "cell_type": "code",
      "source": [
        "assert len(DD_utter) == len(DD_emo)\n",
        "print('Number of Test set:', len(DD_utter))\n",
        "print('Emotion Classes:', set(DD_emo))"
      ],
      "metadata": {
        "colab": {
          "base_uri": "https://localhost:8080/"
        },
        "id": "AJZordrkvS-F",
        "outputId": "96e4f69d-1fbd-4479-b61f-30e4ec9b5a55"
      },
      "execution_count": null,
      "outputs": [
        {
          "output_type": "stream",
          "name": "stdout",
          "text": [
            "Number of Test set: 7740\n",
            "Emotion Classes: {0, 1, 2, 3, 4, 5, 6}\n"
          ]
        }
      ]
    },
    {
      "cell_type": "code",
      "source": [
        "# %cd '/content/drive/MyDrive/NEED'\n",
        "# !git clone https://github.com/Sanghoon94/DailyDialogue-Parser.git\n",
        "# %cd '/content/drive/MyDrive/NEED/DailyDialogue-Parser'\n",
        "# %run parser.py -i /content/drive/MyDrive/NEED/ijcnlp_dailydialog/test -o /content/drive/MyDrive/NEED/ijcnlp_dailydialog/test_parsed\n",
        "# with open('/content/drive/MyDrive/NEED/ijcnlp_dailydialog/test_parsed/dial.txt') as f:\n",
        "#     dial = f.read()\n",
        "#     texts = dial.splitlines()\n",
        "# with open('/content/drive/MyDrive/NEED/ijcnlp_dailydialog/test_parsed/emo.txt') as f:\n",
        "#     emo = f.read()\n",
        "#     emos = emo.splitlines()\n",
        "\n",
        "# assert len(emos) == len(texts) "
      ],
      "metadata": {
        "id": "CG4-o2iZr1vc"
      },
      "execution_count": null,
      "outputs": []
    },
    {
      "cell_type": "markdown",
      "source": [
        "# Load Emotion-English-DistilRoBERTa-base"
      ],
      "metadata": {
        "id": "TgE9B3kso7fQ"
      }
    },
    {
      "cell_type": "code",
      "metadata": {
        "id": "zkIt7_lKp0h-"
      },
      "source": [
        "# install the transformers library\n",
        "!pip install transformers"
      ],
      "execution_count": null,
      "outputs": []
    },
    {
      "cell_type": "code",
      "metadata": {
        "id": "0wC0q6Bxp3or"
      },
      "source": [
        "# import required packages\n",
        "import torch\n",
        "import pandas as pd\n",
        "import numpy as np\n",
        "from transformers import AutoTokenizer, AutoModelForSequenceClassification, Trainer\n",
        "\n",
        "# Create class for data preparation\n",
        "class SimpleDataset:\n",
        "    def __init__(self, tokenized_texts):\n",
        "        self.tokenized_texts = tokenized_texts\n",
        "    \n",
        "    def __len__(self):\n",
        "        return len(self.tokenized_texts[\"input_ids\"])\n",
        "    \n",
        "    def __getitem__(self, idx):\n",
        "        return {k: v[idx] for k, v in self.tokenized_texts.items()}"
      ],
      "execution_count": null,
      "outputs": []
    },
    {
      "cell_type": "code",
      "metadata": {
        "id": "SZNal9hXp6wm"
      },
      "source": [
        "# load tokenizer and model, create trainer\n",
        "model_name = \"j-hartmann/emotion-english-distilroberta-base\"\n",
        "tokenizer = AutoTokenizer.from_pretrained(model_name)\n",
        "model = AutoModelForSequenceClassification.from_pretrained(model_name)\n",
        "trainer = Trainer(model=model)"
      ],
      "execution_count": null,
      "outputs": []
    },
    {
      "cell_type": "code",
      "source": [
        "model.config.id2label"
      ],
      "metadata": {
        "colab": {
          "base_uri": "https://localhost:8080/"
        },
        "id": "0FuCJkAQxH7I",
        "outputId": "bb526e57-0fe8-406d-d3f4-a61a88f7dbcf"
      },
      "execution_count": null,
      "outputs": [
        {
          "output_type": "execute_result",
          "data": {
            "text/plain": [
              "{0: 'anger',\n",
              " 1: 'disgust',\n",
              " 2: 'fear',\n",
              " 3: 'joy',\n",
              " 4: 'neutral',\n",
              " 5: 'sadness',\n",
              " 6: 'surprise'}"
            ]
          },
          "metadata": {},
          "execution_count": 17
        }
      ]
    },
    {
      "cell_type": "markdown",
      "source": [
        "# Inference"
      ],
      "metadata": {
        "id": "9Zm2w62_c9t1"
      }
    },
    {
      "cell_type": "markdown",
      "source": [
        "### Classify utters with model (MELD)"
      ],
      "metadata": {
        "id": "PNauUHt1qPaM"
      }
    },
    {
      "cell_type": "code",
      "metadata": {
        "id": "oKLUxGXmp7zF"
      },
      "source": [
        "# Tokenize texts and create prediction data set\n",
        "MELD_tokenized_texts = tokenizer(MELD_utter,truncation=True,padding=True)\n",
        "MELD_pred_dataset = SimpleDataset(MELD_tokenized_texts)"
      ],
      "execution_count": null,
      "outputs": []
    },
    {
      "cell_type": "code",
      "metadata": {
        "id": "h5mjnob3sMCl",
        "colab": {
          "base_uri": "https://localhost:8080/",
          "height": 72
        },
        "outputId": "1fbeb9dc-59d3-4062-ea71-4e599c6ff630"
      },
      "source": [
        "# Run predictions\n",
        "MELD_predictions = trainer.predict(MELD_pred_dataset)"
      ],
      "execution_count": null,
      "outputs": [
        {
          "output_type": "stream",
          "name": "stderr",
          "text": [
            "***** Running Prediction *****\n",
            "  Num examples = 2610\n",
            "  Batch size = 8\n"
          ]
        },
        {
          "output_type": "display_data",
          "data": {
            "text/plain": [
              "<IPython.core.display.HTML object>"
            ],
            "text/html": []
          },
          "metadata": {}
        }
      ]
    },
    {
      "cell_type": "code",
      "metadata": {
        "id": "s3O53RHCsVd7"
      },
      "source": [
        "# Transform predictions to labels\n",
        "MELD_preds = MELD_predictions.predictions.argmax(-1)\n",
        "MELD_labels = pd.Series(MELD_preds).map(model.config.id2label)\n",
        "MELD_scores = (np.exp(MELD_predictions[0])/np.exp(MELD_predictions[0]).sum(-1,keepdims=True)).max(1)"
      ],
      "execution_count": null,
      "outputs": []
    },
    {
      "cell_type": "code",
      "metadata": {
        "id": "sUBbYjnhmxop"
      },
      "source": [
        "# # scores raw\n",
        "# temp = (np.exp(predictions[0])/np.exp(predictions[0]).sum(-1,keepdims=True))"
      ],
      "execution_count": null,
      "outputs": []
    },
    {
      "cell_type": "code",
      "metadata": {
        "id": "qXuTJKMKhCbL"
      },
      "source": [
        "# # work in progress\n",
        "# # container\n",
        "# anger = []\n",
        "# disgust = []\n",
        "# fear = []\n",
        "# joy = []\n",
        "# neutral = []\n",
        "# sadness = []\n",
        "# surprise = []\n",
        "\n",
        "# # extract scores (as many entries as exist in pred_texts)\n",
        "# for i in range(len(pred_texts)):\n",
        "#   anger.append(temp[i][0])\n",
        "#   disgust.append(temp[i][1])\n",
        "#   fear.append(temp[i][2])\n",
        "#   joy.append(temp[i][3])\n",
        "#   neutral.append(temp[i][4])\n",
        "#   sadness.append(temp[i][5])\n",
        "#   surprise.append(temp[i][6])"
      ],
      "execution_count": null,
      "outputs": []
    },
    {
      "cell_type": "code",
      "metadata": {
        "id": "FhIONI7ett0q"
      },
      "source": [
        "# # Create DataFrame with texts, predictions, labels, and scores\n",
        "# df = pd.DataFrame(list(zip(pred_texts,preds,labels,scores,  anger, disgust, fear, joy, neutral, sadness, surprise)), columns=['text','pred','label','score', 'anger', 'disgust', 'fear', 'joy', 'neutral', 'sadness', 'surprise'])\n",
        "# df.head()"
      ],
      "execution_count": null,
      "outputs": []
    },
    {
      "cell_type": "code",
      "source": [
        "MELD_pred_df = pd.DataFrame(list(zip(MELD_utter,MELD_preds,MELD_labels)), columns=['utter','pred','label'])\n",
        "MELD_pred_df[:10]"
      ],
      "metadata": {
        "colab": {
          "base_uri": "https://localhost:8080/",
          "height": 363
        },
        "id": "4URSwW3BIHeO",
        "outputId": "e03df0d6-8e58-42e8-d375-ac513c34b469"
      },
      "execution_count": null,
      "outputs": [
        {
          "output_type": "execute_result",
          "data": {
            "text/plain": [
              "                                               utter  pred     label\n",
              "0  Why do all you’re coffee mugs have numbers on ...     6  surprise\n",
              "1  Oh. That’s so Monica can keep track. That way ...     4   neutral\n",
              "2                                       Y'know what?     0     anger\n",
              "3                     Come on, Lydia, you can do it.     4   neutral\n",
              "4                                              Push!     0     anger\n",
              "5        Push 'em out, push 'em out, harder, harder.     0     anger\n",
              "6               Push 'em out, push 'em out, way out!     0     anger\n",
              "7  Let's get that ball and really move, hey, hey,...     4   neutral\n",
              "8                    Let's—  I was just—yeah, right.     4   neutral\n",
              "9                                              Push!     0     anger"
            ],
            "text/html": [
              "\n",
              "  <div id=\"df-f8603673-77aa-454b-92fb-b4dbc35ce98f\">\n",
              "    <div class=\"colab-df-container\">\n",
              "      <div>\n",
              "<style scoped>\n",
              "    .dataframe tbody tr th:only-of-type {\n",
              "        vertical-align: middle;\n",
              "    }\n",
              "\n",
              "    .dataframe tbody tr th {\n",
              "        vertical-align: top;\n",
              "    }\n",
              "\n",
              "    .dataframe thead th {\n",
              "        text-align: right;\n",
              "    }\n",
              "</style>\n",
              "<table border=\"1\" class=\"dataframe\">\n",
              "  <thead>\n",
              "    <tr style=\"text-align: right;\">\n",
              "      <th></th>\n",
              "      <th>utter</th>\n",
              "      <th>pred</th>\n",
              "      <th>label</th>\n",
              "    </tr>\n",
              "  </thead>\n",
              "  <tbody>\n",
              "    <tr>\n",
              "      <th>0</th>\n",
              "      <td>Why do all you’re coffee mugs have numbers on ...</td>\n",
              "      <td>6</td>\n",
              "      <td>surprise</td>\n",
              "    </tr>\n",
              "    <tr>\n",
              "      <th>1</th>\n",
              "      <td>Oh. That’s so Monica can keep track. That way ...</td>\n",
              "      <td>4</td>\n",
              "      <td>neutral</td>\n",
              "    </tr>\n",
              "    <tr>\n",
              "      <th>2</th>\n",
              "      <td>Y'know what?</td>\n",
              "      <td>0</td>\n",
              "      <td>anger</td>\n",
              "    </tr>\n",
              "    <tr>\n",
              "      <th>3</th>\n",
              "      <td>Come on, Lydia, you can do it.</td>\n",
              "      <td>4</td>\n",
              "      <td>neutral</td>\n",
              "    </tr>\n",
              "    <tr>\n",
              "      <th>4</th>\n",
              "      <td>Push!</td>\n",
              "      <td>0</td>\n",
              "      <td>anger</td>\n",
              "    </tr>\n",
              "    <tr>\n",
              "      <th>5</th>\n",
              "      <td>Push 'em out, push 'em out, harder, harder.</td>\n",
              "      <td>0</td>\n",
              "      <td>anger</td>\n",
              "    </tr>\n",
              "    <tr>\n",
              "      <th>6</th>\n",
              "      <td>Push 'em out, push 'em out, way out!</td>\n",
              "      <td>0</td>\n",
              "      <td>anger</td>\n",
              "    </tr>\n",
              "    <tr>\n",
              "      <th>7</th>\n",
              "      <td>Let's get that ball and really move, hey, hey,...</td>\n",
              "      <td>4</td>\n",
              "      <td>neutral</td>\n",
              "    </tr>\n",
              "    <tr>\n",
              "      <th>8</th>\n",
              "      <td>Let's—  I was just—yeah, right.</td>\n",
              "      <td>4</td>\n",
              "      <td>neutral</td>\n",
              "    </tr>\n",
              "    <tr>\n",
              "      <th>9</th>\n",
              "      <td>Push!</td>\n",
              "      <td>0</td>\n",
              "      <td>anger</td>\n",
              "    </tr>\n",
              "  </tbody>\n",
              "</table>\n",
              "</div>\n",
              "      <button class=\"colab-df-convert\" onclick=\"convertToInteractive('df-f8603673-77aa-454b-92fb-b4dbc35ce98f')\"\n",
              "              title=\"Convert this dataframe to an interactive table.\"\n",
              "              style=\"display:none;\">\n",
              "        \n",
              "  <svg xmlns=\"http://www.w3.org/2000/svg\" height=\"24px\"viewBox=\"0 0 24 24\"\n",
              "       width=\"24px\">\n",
              "    <path d=\"M0 0h24v24H0V0z\" fill=\"none\"/>\n",
              "    <path d=\"M18.56 5.44l.94 2.06.94-2.06 2.06-.94-2.06-.94-.94-2.06-.94 2.06-2.06.94zm-11 1L8.5 8.5l.94-2.06 2.06-.94-2.06-.94L8.5 2.5l-.94 2.06-2.06.94zm10 10l.94 2.06.94-2.06 2.06-.94-2.06-.94-.94-2.06-.94 2.06-2.06.94z\"/><path d=\"M17.41 7.96l-1.37-1.37c-.4-.4-.92-.59-1.43-.59-.52 0-1.04.2-1.43.59L10.3 9.45l-7.72 7.72c-.78.78-.78 2.05 0 2.83L4 21.41c.39.39.9.59 1.41.59.51 0 1.02-.2 1.41-.59l7.78-7.78 2.81-2.81c.8-.78.8-2.07 0-2.86zM5.41 20L4 18.59l7.72-7.72 1.47 1.35L5.41 20z\"/>\n",
              "  </svg>\n",
              "      </button>\n",
              "      \n",
              "  <style>\n",
              "    .colab-df-container {\n",
              "      display:flex;\n",
              "      flex-wrap:wrap;\n",
              "      gap: 12px;\n",
              "    }\n",
              "\n",
              "    .colab-df-convert {\n",
              "      background-color: #E8F0FE;\n",
              "      border: none;\n",
              "      border-radius: 50%;\n",
              "      cursor: pointer;\n",
              "      display: none;\n",
              "      fill: #1967D2;\n",
              "      height: 32px;\n",
              "      padding: 0 0 0 0;\n",
              "      width: 32px;\n",
              "    }\n",
              "\n",
              "    .colab-df-convert:hover {\n",
              "      background-color: #E2EBFA;\n",
              "      box-shadow: 0px 1px 2px rgba(60, 64, 67, 0.3), 0px 1px 3px 1px rgba(60, 64, 67, 0.15);\n",
              "      fill: #174EA6;\n",
              "    }\n",
              "\n",
              "    [theme=dark] .colab-df-convert {\n",
              "      background-color: #3B4455;\n",
              "      fill: #D2E3FC;\n",
              "    }\n",
              "\n",
              "    [theme=dark] .colab-df-convert:hover {\n",
              "      background-color: #434B5C;\n",
              "      box-shadow: 0px 1px 3px 1px rgba(0, 0, 0, 0.15);\n",
              "      filter: drop-shadow(0px 1px 2px rgba(0, 0, 0, 0.3));\n",
              "      fill: #FFFFFF;\n",
              "    }\n",
              "  </style>\n",
              "\n",
              "      <script>\n",
              "        const buttonEl =\n",
              "          document.querySelector('#df-f8603673-77aa-454b-92fb-b4dbc35ce98f button.colab-df-convert');\n",
              "        buttonEl.style.display =\n",
              "          google.colab.kernel.accessAllowed ? 'block' : 'none';\n",
              "\n",
              "        async function convertToInteractive(key) {\n",
              "          const element = document.querySelector('#df-f8603673-77aa-454b-92fb-b4dbc35ce98f');\n",
              "          const dataTable =\n",
              "            await google.colab.kernel.invokeFunction('convertToInteractive',\n",
              "                                                     [key], {});\n",
              "          if (!dataTable) return;\n",
              "\n",
              "          const docLinkHtml = 'Like what you see? Visit the ' +\n",
              "            '<a target=\"_blank\" href=https://colab.research.google.com/notebooks/data_table.ipynb>data table notebook</a>'\n",
              "            + ' to learn more about interactive tables.';\n",
              "          element.innerHTML = '';\n",
              "          dataTable['output_type'] = 'display_data';\n",
              "          await google.colab.output.renderOutput(dataTable, element);\n",
              "          const docLink = document.createElement('div');\n",
              "          docLink.innerHTML = docLinkHtml;\n",
              "          element.appendChild(docLink);\n",
              "        }\n",
              "      </script>\n",
              "    </div>\n",
              "  </div>\n",
              "  "
            ]
          },
          "metadata": {},
          "execution_count": 41
        }
      ]
    },
    {
      "cell_type": "code",
      "source": [
        "# label setting\n",
        "MELD_label = np.zeros(len(MELD_utter))\n",
        "MELD_emo = np.array(MELD_emo)\n",
        "MELD_label[MELD_emo=='anger'] = 0\n",
        "MELD_label[MELD_emo=='disgust'] = 1\n",
        "MELD_label[MELD_emo=='fear'] = 2\n",
        "MELD_label[MELD_emo=='joy'] = 3\n",
        "MELD_label[MELD_emo=='neutral'] = 4\n",
        "MELD_label[MELD_emo=='sadness'] = 5\n",
        "MELD_label[MELD_emo=='surprise'] = 6\n",
        "\n",
        "# pred setting\n",
        "MELD_pred = np.array(MELD_pred_df['pred'], dtype=int)"
      ],
      "metadata": {
        "id": "1toHopAR1Ra0"
      },
      "execution_count": null,
      "outputs": []
    },
    {
      "cell_type": "code",
      "source": [
        "from sklearn.metrics import confusion_matrix, classification_report, accuracy_score\n",
        "cm = confusion_matrix(MELD_label, MELD_pred) \n",
        "print(\"**************************************\")\n",
        "print(f'Confusion Matrix :\\n {cm}\\n') \n",
        "print(\"**************************************\")\n",
        "print(f'Test Set Accuracy Score :\\n {accuracy_score(MELD_label, MELD_pred)}\\n') \n",
        "print(\"**************************************\")\n",
        "print(f'Classification Report :\\n {classification_report(MELD_label, MELD_pred)}')"
      ],
      "metadata": {
        "colab": {
          "base_uri": "https://localhost:8080/"
        },
        "id": "SGkaZhH-4Vnl",
        "outputId": "f459a853-b16c-4f84-bd3c-163f73313900"
      },
      "execution_count": null,
      "outputs": [
        {
          "output_type": "stream",
          "name": "stdout",
          "text": [
            "**************************************\n",
            "Confusion Matrix :\n",
            " [[118  42  11  20  60   5  89]\n",
            " [ 11  23   1   3  15   1  14]\n",
            " [ 10   5   8   1  10   2  14]\n",
            " [ 53  20   4 163  65  11  86]\n",
            " [ 74  83  33  76 744  42 204]\n",
            " [ 29  20  13  12  61  39  34]\n",
            " [ 34  11   1  12  17   0 206]]\n",
            "\n",
            "**************************************\n",
            "Test Set Accuracy Score :\n",
            " 0.4984674329501916\n",
            "\n",
            "**************************************\n",
            "Classification Report :\n",
            "               precision    recall  f1-score   support\n",
            "\n",
            "         0.0       0.36      0.34      0.35       345\n",
            "         1.0       0.11      0.34      0.17        68\n",
            "         2.0       0.11      0.16      0.13        50\n",
            "         3.0       0.57      0.41      0.47       402\n",
            "         4.0       0.77      0.59      0.67      1256\n",
            "         5.0       0.39      0.19      0.25       208\n",
            "         6.0       0.32      0.73      0.44       281\n",
            "\n",
            "    accuracy                           0.50      2610\n",
            "   macro avg       0.38      0.39      0.36      2610\n",
            "weighted avg       0.57      0.50      0.52      2610\n",
            "\n"
          ]
        }
      ]
    },
    {
      "cell_type": "markdown",
      "source": [
        "### Classify utters with model (DailyDialog)"
      ],
      "metadata": {
        "id": "Htqmmsdz40yQ"
      }
    },
    {
      "cell_type": "code",
      "metadata": {
        "id": "vCBQQfje5FmP"
      },
      "source": [
        "# Tokenize texts and create prediction data set\n",
        "DD_tokenized_texts = tokenizer(DD_utter,truncation=True,padding=True)\n",
        "DD_pred_dataset = SimpleDataset(DD_tokenized_texts)"
      ],
      "execution_count": null,
      "outputs": []
    },
    {
      "cell_type": "code",
      "metadata": {
        "colab": {
          "base_uri": "https://localhost:8080/",
          "height": 72
        },
        "outputId": "6b5ad6d5-46e7-44c9-d7b8-831bb0c4b338",
        "id": "WuilhwQt5FmQ"
      },
      "source": [
        "# Run predictions\n",
        "DD_predictions = trainer.predict(DD_pred_dataset)"
      ],
      "execution_count": null,
      "outputs": [
        {
          "output_type": "stream",
          "name": "stderr",
          "text": [
            "***** Running Prediction *****\n",
            "  Num examples = 7740\n",
            "  Batch size = 8\n"
          ]
        },
        {
          "output_type": "display_data",
          "data": {
            "text/plain": [
              "<IPython.core.display.HTML object>"
            ],
            "text/html": []
          },
          "metadata": {}
        }
      ]
    },
    {
      "cell_type": "code",
      "metadata": {
        "id": "STt-rWOG5FmR"
      },
      "source": [
        "# Transform predictions to labels\n",
        "DD_preds = DD_predictions.predictions.argmax(-1)\n",
        "DD_labels = pd.Series(DD_preds).map(model.config.id2label)\n",
        "DD_scores = (np.exp(DD_predictions[0])/np.exp(DD_predictions[0]).sum(-1,keepdims=True)).max(1)"
      ],
      "execution_count": null,
      "outputs": []
    },
    {
      "cell_type": "code",
      "source": [
        "DD_pred_df = pd.DataFrame(list(zip(DD_utter,DD_preds,DD_labels)), columns=['utter','pred','label'])\n",
        "DD_pred_df[:10]"
      ],
      "metadata": {
        "colab": {
          "base_uri": "https://localhost:8080/",
          "height": 363
        },
        "outputId": "3ff52873-366e-4731-8cad-f7adcda1ff4c",
        "id": "gqLWMmtR5FmR"
      },
      "execution_count": null,
      "outputs": [
        {
          "output_type": "execute_result",
          "data": {
            "text/plain": [
              "                                               utter  pred     label\n",
              "0               Hey man , you wanna buy some weed ?      2      fear\n",
              "1                                       Some what ?      2      fear\n",
              "2   Weed ! You know ? Pot , Ganja , Mary Jane som...     4   neutral\n",
              "3                            Oh , umm , no thanks .      2      fear\n",
              "4   I also have blow if you prefer to do a few li...     4   neutral\n",
              "5                           No , I am ok , really .      2      fear\n",
              "6   Come on man ! I even got dope and acid ! Try ...     0     anger\n",
              "7   Do you really have all of these drugs ? Where...     6  surprise\n",
              "8   I got my connections ! Just tell me what you ...     4   neutral\n",
              "9              Sounds good ! Let ’ s see , I want .      3       joy"
            ],
            "text/html": [
              "\n",
              "  <div id=\"df-fd9e80f2-d359-4fa2-b6e2-57f5c3a8f56a\">\n",
              "    <div class=\"colab-df-container\">\n",
              "      <div>\n",
              "<style scoped>\n",
              "    .dataframe tbody tr th:only-of-type {\n",
              "        vertical-align: middle;\n",
              "    }\n",
              "\n",
              "    .dataframe tbody tr th {\n",
              "        vertical-align: top;\n",
              "    }\n",
              "\n",
              "    .dataframe thead th {\n",
              "        text-align: right;\n",
              "    }\n",
              "</style>\n",
              "<table border=\"1\" class=\"dataframe\">\n",
              "  <thead>\n",
              "    <tr style=\"text-align: right;\">\n",
              "      <th></th>\n",
              "      <th>utter</th>\n",
              "      <th>pred</th>\n",
              "      <th>label</th>\n",
              "    </tr>\n",
              "  </thead>\n",
              "  <tbody>\n",
              "    <tr>\n",
              "      <th>0</th>\n",
              "      <td>Hey man , you wanna buy some weed ?</td>\n",
              "      <td>2</td>\n",
              "      <td>fear</td>\n",
              "    </tr>\n",
              "    <tr>\n",
              "      <th>1</th>\n",
              "      <td>Some what ?</td>\n",
              "      <td>2</td>\n",
              "      <td>fear</td>\n",
              "    </tr>\n",
              "    <tr>\n",
              "      <th>2</th>\n",
              "      <td>Weed ! You know ? Pot , Ganja , Mary Jane som...</td>\n",
              "      <td>4</td>\n",
              "      <td>neutral</td>\n",
              "    </tr>\n",
              "    <tr>\n",
              "      <th>3</th>\n",
              "      <td>Oh , umm , no thanks .</td>\n",
              "      <td>2</td>\n",
              "      <td>fear</td>\n",
              "    </tr>\n",
              "    <tr>\n",
              "      <th>4</th>\n",
              "      <td>I also have blow if you prefer to do a few li...</td>\n",
              "      <td>4</td>\n",
              "      <td>neutral</td>\n",
              "    </tr>\n",
              "    <tr>\n",
              "      <th>5</th>\n",
              "      <td>No , I am ok , really .</td>\n",
              "      <td>2</td>\n",
              "      <td>fear</td>\n",
              "    </tr>\n",
              "    <tr>\n",
              "      <th>6</th>\n",
              "      <td>Come on man ! I even got dope and acid ! Try ...</td>\n",
              "      <td>0</td>\n",
              "      <td>anger</td>\n",
              "    </tr>\n",
              "    <tr>\n",
              "      <th>7</th>\n",
              "      <td>Do you really have all of these drugs ? Where...</td>\n",
              "      <td>6</td>\n",
              "      <td>surprise</td>\n",
              "    </tr>\n",
              "    <tr>\n",
              "      <th>8</th>\n",
              "      <td>I got my connections ! Just tell me what you ...</td>\n",
              "      <td>4</td>\n",
              "      <td>neutral</td>\n",
              "    </tr>\n",
              "    <tr>\n",
              "      <th>9</th>\n",
              "      <td>Sounds good ! Let ’ s see , I want .</td>\n",
              "      <td>3</td>\n",
              "      <td>joy</td>\n",
              "    </tr>\n",
              "  </tbody>\n",
              "</table>\n",
              "</div>\n",
              "      <button class=\"colab-df-convert\" onclick=\"convertToInteractive('df-fd9e80f2-d359-4fa2-b6e2-57f5c3a8f56a')\"\n",
              "              title=\"Convert this dataframe to an interactive table.\"\n",
              "              style=\"display:none;\">\n",
              "        \n",
              "  <svg xmlns=\"http://www.w3.org/2000/svg\" height=\"24px\"viewBox=\"0 0 24 24\"\n",
              "       width=\"24px\">\n",
              "    <path d=\"M0 0h24v24H0V0z\" fill=\"none\"/>\n",
              "    <path d=\"M18.56 5.44l.94 2.06.94-2.06 2.06-.94-2.06-.94-.94-2.06-.94 2.06-2.06.94zm-11 1L8.5 8.5l.94-2.06 2.06-.94-2.06-.94L8.5 2.5l-.94 2.06-2.06.94zm10 10l.94 2.06.94-2.06 2.06-.94-2.06-.94-.94-2.06-.94 2.06-2.06.94z\"/><path d=\"M17.41 7.96l-1.37-1.37c-.4-.4-.92-.59-1.43-.59-.52 0-1.04.2-1.43.59L10.3 9.45l-7.72 7.72c-.78.78-.78 2.05 0 2.83L4 21.41c.39.39.9.59 1.41.59.51 0 1.02-.2 1.41-.59l7.78-7.78 2.81-2.81c.8-.78.8-2.07 0-2.86zM5.41 20L4 18.59l7.72-7.72 1.47 1.35L5.41 20z\"/>\n",
              "  </svg>\n",
              "      </button>\n",
              "      \n",
              "  <style>\n",
              "    .colab-df-container {\n",
              "      display:flex;\n",
              "      flex-wrap:wrap;\n",
              "      gap: 12px;\n",
              "    }\n",
              "\n",
              "    .colab-df-convert {\n",
              "      background-color: #E8F0FE;\n",
              "      border: none;\n",
              "      border-radius: 50%;\n",
              "      cursor: pointer;\n",
              "      display: none;\n",
              "      fill: #1967D2;\n",
              "      height: 32px;\n",
              "      padding: 0 0 0 0;\n",
              "      width: 32px;\n",
              "    }\n",
              "\n",
              "    .colab-df-convert:hover {\n",
              "      background-color: #E2EBFA;\n",
              "      box-shadow: 0px 1px 2px rgba(60, 64, 67, 0.3), 0px 1px 3px 1px rgba(60, 64, 67, 0.15);\n",
              "      fill: #174EA6;\n",
              "    }\n",
              "\n",
              "    [theme=dark] .colab-df-convert {\n",
              "      background-color: #3B4455;\n",
              "      fill: #D2E3FC;\n",
              "    }\n",
              "\n",
              "    [theme=dark] .colab-df-convert:hover {\n",
              "      background-color: #434B5C;\n",
              "      box-shadow: 0px 1px 3px 1px rgba(0, 0, 0, 0.15);\n",
              "      filter: drop-shadow(0px 1px 2px rgba(0, 0, 0, 0.3));\n",
              "      fill: #FFFFFF;\n",
              "    }\n",
              "  </style>\n",
              "\n",
              "      <script>\n",
              "        const buttonEl =\n",
              "          document.querySelector('#df-fd9e80f2-d359-4fa2-b6e2-57f5c3a8f56a button.colab-df-convert');\n",
              "        buttonEl.style.display =\n",
              "          google.colab.kernel.accessAllowed ? 'block' : 'none';\n",
              "\n",
              "        async function convertToInteractive(key) {\n",
              "          const element = document.querySelector('#df-fd9e80f2-d359-4fa2-b6e2-57f5c3a8f56a');\n",
              "          const dataTable =\n",
              "            await google.colab.kernel.invokeFunction('convertToInteractive',\n",
              "                                                     [key], {});\n",
              "          if (!dataTable) return;\n",
              "\n",
              "          const docLinkHtml = 'Like what you see? Visit the ' +\n",
              "            '<a target=\"_blank\" href=https://colab.research.google.com/notebooks/data_table.ipynb>data table notebook</a>'\n",
              "            + ' to learn more about interactive tables.';\n",
              "          element.innerHTML = '';\n",
              "          dataTable['output_type'] = 'display_data';\n",
              "          await google.colab.output.renderOutput(dataTable, element);\n",
              "          const docLink = document.createElement('div');\n",
              "          docLink.innerHTML = docLinkHtml;\n",
              "          element.appendChild(docLink);\n",
              "        }\n",
              "      </script>\n",
              "    </div>\n",
              "  </div>\n",
              "  "
            ]
          },
          "metadata": {},
          "execution_count": 48
        }
      ]
    },
    {
      "cell_type": "code",
      "source": [
        "# label setting\n",
        "DD_label = np.zeros(len(DD_utter), dtype=int)\n",
        "DD_emo = np.array(DD_emo)\n",
        "DD_label[DD_emo==0] = 4\n",
        "DD_label[DD_emo==1] = 0\n",
        "DD_label[DD_emo==2] = 1\n",
        "DD_label[DD_emo==3] = 2\n",
        "DD_label[DD_emo==4] = 3\n",
        "DD_label[DD_emo==5] = 5\n",
        "DD_label[DD_emo==6] = 6\n",
        "\n",
        "# pred setting\n",
        "DD_pred = np.array(DD_pred_df['pred'], dtype=int)"
      ],
      "metadata": {
        "id": "CXimhQ_65FmR"
      },
      "execution_count": null,
      "outputs": []
    },
    {
      "cell_type": "code",
      "source": [
        "from sklearn.metrics import confusion_matrix, classification_report, accuracy_score\n",
        "cm = confusion_matrix(DD_label, DD_pred) \n",
        "print(\"**************************************\")\n",
        "print(f'Confusion Matrix :\\n {cm}\\n') \n",
        "print(\"**************************************\")\n",
        "print(f'Test Set Accuracy Score :\\n {accuracy_score(DD_label, DD_pred)}\\n') \n",
        "print(\"**************************************\")\n",
        "print(f'Classification Report :\\n {classification_report(DD_label, DD_pred)}')"
      ],
      "metadata": {
        "colab": {
          "base_uri": "https://localhost:8080/"
        },
        "id": "2VeC8hRAa2o0",
        "outputId": "cb81a0ca-73f7-4b78-90e2-a455f72b7950"
      },
      "execution_count": null,
      "outputs": [
        {
          "output_type": "stream",
          "name": "stdout",
          "text": [
            "**************************************\n",
            "Confusion Matrix :\n",
            " [[  32    5   29    0   31   15    6]\n",
            " [   8   13    9    0    7    9    1]\n",
            " [   1    0   15    0    1    0    0]\n",
            " [   9    9   92  467  385   10   47]\n",
            " [ 140  143 1599  415 3545  284  195]\n",
            " [   7    5   23    2   19   42    4]\n",
            " [  10    2   26    4   23    2   49]]\n",
            "\n",
            "**************************************\n",
            "Test Set Accuracy Score :\n",
            " 0.5378552971576227\n",
            "\n",
            "**************************************\n",
            "Classification Report :\n",
            "               precision    recall  f1-score   support\n",
            "\n",
            "           0       0.15      0.27      0.20       118\n",
            "           1       0.07      0.28      0.12        47\n",
            "           2       0.01      0.88      0.02        17\n",
            "           3       0.53      0.46      0.49      1019\n",
            "           4       0.88      0.56      0.69      6321\n",
            "           5       0.12      0.41      0.18       102\n",
            "           6       0.16      0.42      0.23       116\n",
            "\n",
            "    accuracy                           0.54      7740\n",
            "   macro avg       0.27      0.47      0.27      7740\n",
            "weighted avg       0.80      0.54      0.63      7740\n",
            "\n"
          ]
        }
      ]
    },
    {
      "cell_type": "markdown",
      "source": [
        "### Export results"
      ],
      "metadata": {
        "id": "ehyrB3QxqYEm"
      }
    },
    {
      "cell_type": "code",
      "source": [
        "# save results to csv\n",
        "YOUR_FILENAME = \"YOUR_FILENAME_EMOTIONS.csv\"  # name your output file\n",
        "df.to_csv(YOUR_FILENAME)"
      ],
      "metadata": {
        "id": "CN-p8nG7NAmX"
      },
      "execution_count": null,
      "outputs": []
    },
    {
      "cell_type": "code",
      "source": [
        "# download file\n",
        "files.download(YOUR_FILENAME)"
      ],
      "metadata": {
        "id": "ZbdoUQ9tqenN"
      },
      "execution_count": null,
      "outputs": []
    }
  ]
}